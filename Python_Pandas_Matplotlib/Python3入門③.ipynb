{
 "cells": [
  {
   "cell_type": "markdown",
   "metadata": {},
   "source": [
    "目次\n",
    "--------------------------------------------\n",
    "第16章 NumPyでベクトル・行列計算\n",
    "--------------------------------------------\n",
    "\n",
    "    16-9 whereで条件に応じたデータを抽出"
   ]
  },
  {
   "cell_type": "markdown",
   "metadata": {},
   "source": [
    "16-9 whereで条件に応じたデータを抽出\n",
    "--------------------------------------------\n",
    "\n",
    "配列A、B、については適当な数値を格納し配列conditionにはTrue、もしくはFalseを格納します。conditionの要素を順に読み込みconditionの値がTrueの場合はAから値を取得しconditionの値がFalseの場合はBから値を取得するプログラムを記述します。"
   ]
  },
  {
   "cell_type": "code",
   "execution_count": 1,
   "metadata": {},
   "outputs": [
    {
     "data": {
      "text/plain": [
       "[1, 2, 300, 400]"
      ]
     },
     "execution_count": 1,
     "metadata": {},
     "output_type": "execute_result"
    }
   ],
   "source": [
    "import numpy as np\n",
    "\n",
    "A = np.array([1, 2, 3, 4])\n",
    "\n",
    "B = np.array([100, 200, 300, 400])\n",
    "\n",
    "condition = np.array([True, True, False, False])\n",
    "\n",
    "answer = [(A_val if cond else B_val) for A_val, B_val, cond in zip(A, B, condition)]\n",
    "\n",
    "answer"
   ]
  },
  {
   "cell_type": "markdown",
   "metadata": {},
   "source": [
    "zipでは複数の配列などのオブジェクトの要素を取り出すことができ、'for A_val, B_val, cond in zip(A, B, condition)'では'zip(A, B, condition)'で配列A、B、conditionの要素を順に取り出しそれぞれ変数A_val、B_val、condに格納していきます。\n",
    "\n",
    "これらの変数は'A_val if　cond else B_val'のif文でcondがTrueであれば変数A_valの値、condがFalseであれば変数B_valの値を出力用の配列の要素としています。\n",
    "\n",
    "上記の複雑なプログラムはNumPyのwhereを使うと簡単に記述することができます。\n",
    "\n",
    "whereではNumPyのndarray配列に対して条件を満たす要素を簡単に抽出することができます。\n",
    "\n",
    "記述方法は以下で\n",
    "\n",
    "numpy.where(条件式, [x, y])\n",
    "\n",
    "条件式を満たす場合(真 Trueの場合)はx、満たさない場合(偽 Falseの場合)はyのndarray配列を返します。\n",
    "\n",
    "またx, yを省略した場合は条件を満たすindexを返します。\n",
    "\n",
    "このwhereを利用して先ほどのプログラムは以下のように書き換えることができます。"
   ]
  },
  {
   "cell_type": "code",
   "execution_count": 3,
   "metadata": {},
   "outputs": [
    {
     "data": {
      "text/plain": [
       "array([  1,   2, 300, 400])"
      ]
     },
     "execution_count": 3,
     "metadata": {},
     "output_type": "execute_result"
    }
   ],
   "source": [
    "answer2 = np.where(condition, A, B)\n",
    "\n",
    "answer2"
   ]
  }
 ],
 "metadata": {
  "kernelspec": {
   "display_name": "Python 3",
   "language": "python",
   "name": "python3"
  },
  "language_info": {
   "codemirror_mode": {
    "name": "ipython",
    "version": 3
   },
   "file_extension": ".py",
   "mimetype": "text/x-python",
   "name": "python",
   "nbconvert_exporter": "python",
   "pygments_lexer": "ipython3",
   "version": "3.7.6"
  }
 },
 "nbformat": 4,
 "nbformat_minor": 4
}
